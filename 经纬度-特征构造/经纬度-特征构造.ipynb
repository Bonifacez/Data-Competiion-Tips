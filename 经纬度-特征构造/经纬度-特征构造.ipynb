{
 "cells": [
  {
   "cell_type": "markdown",
   "metadata": {},
   "source": [
    "# 基于经纬度的特征工程\n",
    "\n",
    "\n",
    "## 两个经度 | 纬度相减\n",
    "\n",
    "longitude 经度\n",
    "\n",
    "latitude 纬度"
   ]
  },
  {
   "cell_type": "code",
   "execution_count": 2,
   "metadata": {},
   "outputs": [],
   "source": [
    "def lat_diff(lat1, lat2): \n",
    "    return lat1 - lat2\n",
    "\n",
    "def lat_absdiff(lat1, lat2): \n",
    "    return abs(lat1 - lat2)\n",
    "\n",
    "def lng_diff(lng1, lng2): \n",
    "    return lng1 - lng2\n",
    "\n",
    "def lng_absdiff(lng1, lng2): \n",
    "    return abs(lng1 - lng2)"
   ]
  },
  {
   "cell_type": "markdown",
   "metadata": {},
   "source": [
    "## 两个经 | 纬度相除\n",
    "\n",
    "* 减法如果是绝对特征，那么相除可以认为是相对特征"
   ]
  },
  {
   "cell_type": "code",
   "execution_count": 3,
   "metadata": {},
   "outputs": [],
   "source": [
    "def lat_ratio(lat1, lat2): \n",
    "    return lat2 / lat1\n",
    "\n",
    "def lgn_ratio(lgn1, lgn2): \n",
    "    return lgn2 / lgn1"
   ]
  },
  {
   "cell_type": "markdown",
   "metadata": {},
   "source": [
    "## 经纬度相除"
   ]
  },
  {
   "cell_type": "code",
   "execution_count": 4,
   "metadata": {},
   "outputs": [],
   "source": [
    "def lng_lat_ratio(lat1,lng1): \n",
    "    return lng1 / lat1\n",
    "\n",
    "def lat_lng_ratio(lgn1, lgn2): \n",
    "    return lat1 / lgn1"
   ]
  },
  {
   "cell_type": "markdown",
   "metadata": {},
   "source": [
    "## 两个经纬度的欧几里得距离计算"
   ]
  },
  {
   "cell_type": "code",
   "execution_count": 5,
   "metadata": {},
   "outputs": [],
   "source": [
    "def euclidean_distance(lat1, lng1, lat2, lng2): \n",
    "    return np.sqrt((lat1 - lat2) ** 2 + (lng1 - lng2) ** 2)"
   ]
  },
  {
   "cell_type": "markdown",
   "metadata": {},
   "source": [
    "## 两个经纬度的Manhattan距离计算"
   ]
  },
  {
   "cell_type": "code",
   "execution_count": 6,
   "metadata": {},
   "outputs": [],
   "source": [
    "def manhattan_distance(lat1, lng1, lat2, lng2): \n",
    "    return abs(lat1 - lat2)  + abs(lng1 - lng2)"
   ]
  },
  {
   "cell_type": "markdown",
   "metadata": {},
   "source": [
    "## 经纬度与斜边的比例特征\n",
    "* 类似于三角形中两个直角边与斜边的比例信息"
   ]
  },
  {
   "cell_type": "code",
   "execution_count": 7,
   "metadata": {},
   "outputs": [],
   "source": [
    "def lat_lng_hypotenuse_ratio(lat1, lng1): \n",
    "    hypotenuse = np.sqrt((lat1 ** 2 +  lng1 ** 2))\n",
    "    return lat1 /  hypotenuse, lng1/  hypotenuse"
   ]
  },
  {
   "cell_type": "markdown",
   "metadata": {},
   "source": [
    "## 基于经纬度的聚类\n",
    "* 基于经纬度进行聚类，将经纬度聚类的结果当做特征,例如常用的Kmeans。"
   ]
  },
  {
   "cell_type": "code",
   "execution_count": null,
   "metadata": {},
   "outputs": [],
   "source": [
    "from sklearn.cluster import MiniBatchKMeans\n",
    "coords = np.vstack((train[['pickup_latitude', 'pickup_longitude']].values,\n",
    "                    train[['dropoff_latitude', 'dropoff_longitude']].values,\n",
    "                    test[['pickup_latitude', 'pickup_longitude']].values,\n",
    "                    test[['dropoff_latitude', 'dropoff_longitude']].values))\n",
    "\n",
    "sample_ind = np.random.permutation(len(coords))[:500000]\n",
    "kmeans = MiniBatchKMeans(n_clusters=100, batch_size=10000).fit(coords[sample_ind])\n",
    "\n",
    "train.loc[:, 'pickup_cluster'] = kmeans.predict(train[['pickup_latitude', 'pickup_longitude']])\n",
    "train.loc[:, 'dropoff_cluster'] = kmeans.predict(train[['dropoff_latitude', 'dropoff_longitude']])\n",
    "test.loc[:, 'pickup_cluster'] = kmeans.predict(test[['pickup_latitude', 'pickup_longitude']])\n",
    "test.loc[:, 'dropoff_cluster'] = kmeans.predict(test[['dropoff_latitude', 'dropoff_longitude']])"
   ]
  },
  {
   "cell_type": "markdown",
   "metadata": {},
   "source": [
    "## 特殊经纬度信息\n",
    "* 例如第一个出现的经纬度可能是出发地点，最后一个现实的经纬度是终点站，那么这两个就是非常重要的特殊经纬度"
   ]
  },
  {
   "cell_type": "markdown",
   "metadata": {},
   "source": [
    "## 距离某些特殊地点的经纬度距离\n",
    "* 例如距离地铁的距离，距离汽车站的距离(距离可以是Manhattan距离等等)"
   ]
  },
  {
   "cell_type": "code",
   "execution_count": 9,
   "metadata": {},
   "outputs": [],
   "source": [
    "def manhattan_distance_tostation(lat1, lng1, st_lat, st_lng): \n",
    "    return abs(lat1 - st_lat)  + abs(lng1 - st_lng)\n",
    "\n",
    "def euclidean_distance_tostation(lat1, lng1, st_lat, st_lng): \n",
    "    return np.sqrt((lat1 - st_lat) ** 2 + (lng1 - st_lng) ** 2)"
   ]
  },
  {
   "cell_type": "markdown",
   "metadata": {},
   "source": [
    "## 两个经纬度Haversine距离计算\n",
    "* haversine公式确定了给定两个经纬度在球体上两点之间的 great-circle 距离, 在很多比赛中也是最常见到的一种特征"
   ]
  },
  {
   "cell_type": "code",
   "execution_count": 10,
   "metadata": {},
   "outputs": [],
   "source": [
    "def haversine_array(lat1, lng1, lat2, lng2): \n",
    "    lat1, lng1, lat2, lng2 = map(np.radians, (lat1, lng1, lat2, lng2)) \n",
    "    AVG_EARTH_RADIUS = 6371 # in km \n",
    "    lat = lat2 - lat1 \n",
    "    lng = lng2 - lng1 \n",
    "    d = np.sin(lat * 0.5) ** 2 + np.cos(lat1) * np.cos(lat2) *      np.sin(lng * 0.5) ** 2 \n",
    "    h = 2 * AVG_EARTH_RADIUS * np.arcsin(np.sqrt(d)) \n",
    "    return h"
   ]
  },
  {
   "cell_type": "markdown",
   "metadata": {},
   "source": [
    "## 两个经纬度之间的Manhattan距离计算\n",
    "* 沿直角轴测得的两点之间的距离"
   ]
  },
  {
   "cell_type": "code",
   "execution_count": 11,
   "metadata": {},
   "outputs": [],
   "source": [
    "def dummy_manhattan_distance(lat1, lng1, lat2, lng2): \n",
    "    a = haversine_array(lat1, lng1, lat1, lng2) \n",
    "    b = haversine_array(lat1, lng1, lat2, lng1) \n",
    "    return a + b"
   ]
  },
  {
   "cell_type": "markdown",
   "metadata": {},
   "source": [
    "## 两个经纬度之间的方位特征\n",
    "* 表示两个经纬度之间的方位信息"
   ]
  },
  {
   "cell_type": "code",
   "execution_count": 12,
   "metadata": {},
   "outputs": [],
   "source": [
    "def bearing_array(lat1, lng1, lat2, lng2): \n",
    "    AVG_EARTH_RADIUS = 6371 # in km \n",
    "    lng_delta_rad = np.radians(lng2 - lng1) \n",
    "    lat1, lng1, lat2, lng2 = map(np.radians, (lat1, lng1, lat2, lng2)) \n",
    "    y = np.sin(lng_delta_rad) * np.cos(lat2) \n",
    "    x = np.cos(lat1) * np.sin(lat2) - np.sin(lat1) * np.cos(lat2) * np.cos(lng_delta_rad) \n",
    "    return np.degrees(np.arctan2(y, x))"
   ]
  },
  {
   "cell_type": "markdown",
   "metadata": {},
   "source": [
    "## 经纬度逆向编码\n",
    "* 通过很多地图的api,将经纬度信息转换为详细地址信息，然后对这些地址进行编码"
   ]
  },
  {
   "cell_type": "code",
   "execution_count": null,
   "metadata": {},
   "outputs": [],
   "source": [
    "from pygeocoder import Geocoder\n",
    "location = Geocoder.reverse_geocode(12.9716,77.5946)\n",
    "print(\"City:\",location.city)\n",
    "print(\"Country:\",location.country)\n",
    "\n",
    "from geopy.geocoders import Nominatim\n",
    "# create the locator\n",
    "geolocator = Nominatim(user_agent=\"myGeocoder\")\n",
    "# getting the location address\n",
    "location = geolocator.reverse(\"52.509669, 13.376294\")\n",
    "location.raw.get('address').get('state')\n",
    "location.raw.get('address').get('city_district')\n",
    "location.raw.get('address').get('country')\n",
    "location.raw.get('address').get('postcode')"
   ]
  },
  {
   "cell_type": "markdown",
   "metadata": {},
   "source": [
    "## 对经纬度进行其他转换\n",
    "* 常见的是PCA转换（有些竞赛中说这种转换可以帮助树模型更好地分割）"
   ]
  },
  {
   "cell_type": "code",
   "execution_count": null,
   "metadata": {},
   "outputs": [],
   "source": [
    "pca = PCA().fit(coords)\n",
    "train['pickup_pca0'] = pca.transform(train[['pickup_latitude', 'pickup_longitude']])[:, 0]\n",
    "train['pickup_pca1'] = pca.transform(train[['pickup_latitude', 'pickup_longitude']])[:, 1]\n",
    "train['dropoff_pca0'] = pca.transform(train[['dropoff_latitude', 'dropoff_longitude']])[:, 0]\n",
    "train['dropoff_pca1'] = pca.transform(train[['dropoff_latitude', 'dropoff_longitude']])[:, 1]\n",
    "test['pickup_pca0'] = pca.transform(test[['pickup_latitude', 'pickup_longitude']])[:, 0]\n",
    "test['pickup_pca1'] = pca.transform(test[['pickup_latitude', 'pickup_longitude']])[:, 1]\n",
    "test['dropoff_pca0'] = pca.transform(test[['dropoff_latitude', 'dropoff_longitude']])[:, 0]\n",
    "test['dropoff_pca1'] = pca.transform(test[['dropoff_latitude', 'dropoff_longitude']])[:, 1]"
   ]
  },
  {
   "cell_type": "markdown",
   "metadata": {},
   "source": [
    "## 基于经纬度的聚类\n",
    "* 前面的部分，基于Kmeans,但很多专家更加倾向于加入其他的非线性聚类。"
   ]
  },
  {
   "cell_type": "markdown",
   "metadata": {},
   "source": [
    " 1.Perform some Hierarchical Clustering instead of KMeans because of KMeans workes along the maximizing variance if the feature space is linear in nature but if it is non-linear, then Hierarchical Clusterings like PAM, CLARA, and DBSCAN are best to use.\n",
    "\n",
    "2.The choice of the clustering algorithm matters. I tested many algorithms like K-means, DBSCAN, and hierarchical clustering—the latter two seem to give better results when it comes to geospatial features."
   ]
  },
  {
   "cell_type": "code",
   "execution_count": null,
   "metadata": {},
   "outputs": [],
   "source": [
    "from sklearn.cluster import KMeans ,AgglomerativeClustering\n",
    "\n",
    "# creates 5 clusters using hierarchical clustering.\n",
    "agc = AgglomerativeClustering(n_clusters =5, affinity='euclidean', linkage='ward')\n",
    "train['pickup cluster'] = agc.fit_predict(train[['Pickup Lat','Pickup Long']])\n",
    "\n",
    "# creates 5 clusters using k-means clustering algorithm.\n",
    "kmeans = KMeans(5)\n",
    "clusters = kmeans.fit_predict(train[['Pickup Lat','Pickup Long']])\n",
    "train['pickup cluster'] = kmeans.predict(train[['Pickup Lat','Pickup Long']])"
   ]
  },
  {
   "cell_type": "markdown",
   "metadata": {},
   "source": [
    "## 距离某些特殊地点的经纬度距离\n",
    "* 例如距离地铁的距离，距离汽车站的距离(距离计算换算成上面的Haversine等距离)\n",
    "\n",
    "* 距离最近城市的距离\n",
    "* 距离最近的最大的城市的距离\n",
    "* 距离某些特殊站点(家,地铁...)的距离"
   ]
  },
  {
   "cell_type": "markdown",
   "metadata": {},
   "source": [
    "## 经纬度的衍生编码等特征\n",
    "* 例如距离地铁的距离，距离汽车站的距离(距离计算换算成上面的Haversine等距离)\n",
    "* 距离最近的城市编码(人口数编码，城市编码等)\n",
    "* 距离最近的最大的城市编码(人口数编码，城市编码等)等"
   ]
  }
 ],
 "metadata": {
  "kernelspec": {
   "display_name": "Python 3",
   "language": "python",
   "name": "python3"
  },
  "language_info": {
   "codemirror_mode": {
    "name": "ipython",
    "version": 3
   },
   "file_extension": ".py",
   "mimetype": "text/x-python",
   "name": "python",
   "nbconvert_exporter": "python",
   "pygments_lexer": "ipython3",
   "version": "3.7.6"
  }
 },
 "nbformat": 4,
 "nbformat_minor": 2
}
